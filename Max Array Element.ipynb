{
 "cells": [
  {
   "cell_type": "markdown",
   "metadata": {},
   "source": [
    "# Finding Max Element in the Array\n",
    "\n",
    "We can find the maximum element in the array by iterating through the array and updating the maximum element value throughout the array. The algorithm used to do the same is as below : \n",
    "\n",
    "Max(A[0....n-1]):\n",
    "\n",
    "    max = A[0]\n",
    "    for i <- 1 to n-1:\n",
    "        if A[i]>max:\n",
    "            max = A[i]\n",
    "    return max"
   ]
  },
  {
   "cell_type": "code",
   "execution_count": 78,
   "metadata": {},
   "outputs": [],
   "source": [
    "from datetime import datetime as dt\n",
    "import random"
   ]
  },
  {
   "cell_type": "markdown",
   "metadata": {},
   "source": [
    "#### This is a random array generator which generates an array of 1000 elements in the range [0, 2^31-1]"
   ]
  },
  {
   "cell_type": "code",
   "execution_count": 84,
   "metadata": {},
   "outputs": [],
   "source": [
    "def random_arr_generator() -> list:\n",
    "    random_arr = [round(random.randint(0, pow(2,31)-1)) for i in range(1000)]\n",
    "    return random_arr"
   ]
  },
  {
   "cell_type": "markdown",
   "metadata": {},
   "source": [
    "#### The following algorithm first generates a random array of 1000 numbers and then follows the above mentioned algorithm to find the maximum element in the array. \n",
    "#####  (You can use the commented out line to print the time taken in milliseconds for one execution of the function) "
   ]
  },
  {
   "cell_type": "code",
   "execution_count": 92,
   "metadata": {},
   "outputs": [],
   "source": [
    "# FUNCTION DEFINITION\n",
    "\n",
    "def Max_element() -> int:\n",
    "    start = dt.now()\n",
    "    arr = random_arr_generator()\n",
    "    max_ele = random_arr[0]\n",
    "    for i in arr:\n",
    "        if i>max_ele:\n",
    "            max_ele = i\n",
    "    time_taken = dt.now() - start\n",
    "#     print(\"Time Taken : \"+ str(time_taken.total_seconds()*1000)+\"ms\")\n",
    "    return max_ele\n",
    "        "
   ]
  },
  {
   "cell_type": "code",
   "execution_count": 93,
   "metadata": {},
   "outputs": [
    {
     "data": {
      "text/plain": [
       "2146623331"
      ]
     },
     "execution_count": 93,
     "metadata": {},
     "output_type": "execute_result"
    }
   ],
   "source": [
    "# Function Call\n",
    "\n",
    "Max_element()"
   ]
  },
  {
   "cell_type": "code",
   "execution_count": 94,
   "metadata": {},
   "outputs": [
    {
     "name": "stdout",
     "output_type": "stream",
     "text": [
      "2.68 ms ± 669 µs per loop (mean ± std. dev. of 7 runs, 50 loops each)\n"
     ]
    }
   ],
   "source": [
    "%%timeit -n 50\n",
    "\n",
    "# timeit module is used to find the average time for execution\n",
    "# -n argument is used to give the number of times the following lines to execute\n",
    "\n",
    "\n",
    "Max_element()"
   ]
  },
  {
   "cell_type": "code",
   "execution_count": 91,
   "metadata": {},
   "outputs": [
    {
     "name": "stdout",
     "output_type": "stream",
     "text": [
      "Time Taken : 2.1679999999999997ms\n"
     ]
    },
    {
     "data": {
      "text/plain": [
       "2143704702"
      ]
     },
     "execution_count": 91,
     "metadata": {},
     "output_type": "execute_result"
    }
   ],
   "source": [
    "# Used the commented line to print time taken for one execution\n",
    "\n",
    "Max_element()"
   ]
  }
 ],
 "metadata": {
  "kernelspec": {
   "display_name": "Python 3",
   "language": "python",
   "name": "python3"
  },
  "language_info": {
   "codemirror_mode": {
    "name": "ipython",
    "version": 3
   },
   "file_extension": ".py",
   "mimetype": "text/x-python",
   "name": "python",
   "nbconvert_exporter": "python",
   "pygments_lexer": "ipython3",
   "version": "3.7.6"
  }
 },
 "nbformat": 4,
 "nbformat_minor": 4
}
